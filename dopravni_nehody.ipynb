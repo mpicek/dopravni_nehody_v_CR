{
 "cells": [
  {
   "cell_type": "markdown",
   "metadata": {},
   "source": [
    "# Dopravní nehody v České republice za rok 2020\n",
    "\n",
    "Z důvodu dopravních nehod zemře ročně v České republice velký počet lidí. Mnohonásobně vyšší počet osob je pak zraněn a finanční ztráty jsou taktéž enormní. V této krátké statistické studii budeme tato čísla vyhodnocovat. Hlavním cílem bude zjistit, co bylo příčinou nehod a zda není možné nehodám předejít. Zajímá nás, jak velkou roli hrál lidský faktor a zda by řidiče nebylo možné nahradit počítačem, který by mohl chybovost snížit. Může snaha automobilového průmyslu o vyrobení samoříditelných aut zachránit lidské životy? Pojďme se podívat.\n",
    "\n",
    "Data pocházejí z [webu Policie ČR](https://www.policie.cz/clanek/statistika-nehodovosti-900835.aspx?q=Y2hudW09Mg%3d%3d).\n",
    "\n",
    "Popis dat je [zde](https://www.policie.cz/soubor/polozky-formulare-hlavicky-souboru-xlsx.aspx)."
   ]
  },
  {
   "cell_type": "code",
   "execution_count": 1,
   "metadata": {},
   "outputs": [],
   "source": [
    "import numpy as np\n",
    "import pandas as pd\n",
    "%matplotlib inline\n",
    "import matplotlib.pyplot as plt\n",
    "\n",
    "from scipy.stats import norm\n",
    "from scipy.stats import chi2\n",
    "\n",
    "from os import listdir\n",
    "from os.path import isfile, join"
   ]
  },
  {
   "cell_type": "code",
   "execution_count": 2,
   "metadata": {},
   "outputs": [],
   "source": [
    "year = 2020"
   ]
  },
  {
   "cell_type": "markdown",
   "metadata": {},
   "source": [
    "## Příprava dat\n",
    "\n",
    "Zde si připravíme data. Musíme spojit soubory ze všech složek (reprezentující měsíce) a ze všech souborů v těch to složkách (reprezentující kraje)."
   ]
  },
  {
   "cell_type": "code",
   "execution_count": 3,
   "metadata": {},
   "outputs": [],
   "source": [
    "data_folder = './data/' + str(year)\n",
    "months_folders = [join(data_folder, month_folder) for month_folder in sorted(listdir(data_folder))]"
   ]
  },
  {
   "cell_type": "code",
   "execution_count": 4,
   "metadata": {},
   "outputs": [],
   "source": [
    "files_desc = [\n",
    "    \"praha\",\n",
    "    \"stredocesky\",\n",
    "    \"jihocesky\",\n",
    "    \"plzensky\",\n",
    "    \"ustecky\",\n",
    "    \"kralovehradecky\",\n",
    "    \"jihomoravsky\",\n",
    "    \"moravskoslezsky\",\n",
    "    \"none\",\n",
    "    \"none\",\n",
    "    \"none\",\n",
    "    \"none\",\n",
    "    \"none\",\n",
    "    \"none\",\n",
    "    \"olomoucky\",\n",
    "    \"zlinsky\",\n",
    "    \"vysocina\",\n",
    "    \"pradubicky\",\n",
    "    \"liberecky\",\n",
    "    \"karlovarsky\",\n",
    "    \"chodci\"\n",
    "]"
   ]
  },
  {
   "cell_type": "code",
   "execution_count": 5,
   "metadata": {},
   "outputs": [],
   "source": [
    "data = [] # pole mesicu (indexovano od nuly)\n",
    "# data = [data_leden, data_unor, ...]\n",
    "# data_leden = {\"prazsky\" = pdObject, \"stredocesky\" = pdObject, ...}\n",
    "\n",
    "for m in months_folders:\n",
    "    month_data = {} # data from each district\n",
    "    for i, f in enumerate(sorted(listdir(m))):\n",
    "        if files_desc[i] != \"none\" and files_desc[i] != \"chodci\":\n",
    "            month_data[files_desc[i]] = pd.read_csv(join(m, f), sep=';', header=None, low_memory=False)\n",
    "            month_data[files_desc[i]] = month_data[files_desc[i]].drop_duplicates(subset=[0])\n",
    "    data.append(month_data)\n",
    "\n",
    "all_data_pds = [m[kraj] for m in data for kraj in m]\n",
    "all_data_with_duplicates = pd.concat(all_data_pds) # whole year, all districts\n",
    "all_data = all_data_with_duplicates.drop_duplicates(subset=[0]) # drop duplicates (by id of the accident)"
   ]
  },
  {
   "cell_type": "markdown",
   "metadata": {},
   "source": [
    "# Souhrnné statistiky\n",
    "\n",
    "Pojďme se podívat na základní údaje o nehodách."
   ]
  },
  {
   "cell_type": "code",
   "execution_count": 6,
   "metadata": {},
   "outputs": [
    {
     "name": "stdout",
     "output_type": "stream",
     "text": [
      "Za rok 2020 \n",
      " - zemřelo 472 lidí, výběrový průměr na jeden den = 1.29 lidí\n",
      " - bylo těžce zraněno 1557 lidí, výběrový průměr na jeden den = 4.25 lidí\n",
      " - bylo lehce zraněno 21040 lidí, výběrový průměr na jeden den = 57.49 lidí\n",
      " - újma na majetku činila 60143 milionů Kč, výběrový průměr na jeden den = 164.33 milionů Kč\n",
      " - celkem nehod bylo 94804, výběrový průměr na jeden den = 4.25 nehod\n"
     ]
    }
   ],
   "source": [
    "print(f\"Za rok {year} \\n - zemřelo {all_data[13].sum()} lidí, výběrový průměr na jeden den = {round(all_data[13].sum()/366, 2)} lidí\\n\\\n",
    " - bylo těžce zraněno {all_data[14].sum()} lidí, výběrový průměr na jeden den = {round(all_data[14].sum()/366, 2)} lidí\\n\\\n",
    " - bylo lehce zraněno {all_data[15].sum()} lidí, výběrový průměr na jeden den = {round(all_data[15].sum()/366, 2)} lidí\\n\\\n",
    " - újma na majetku činila {all_data[16].sum() // 1000} milionů Kč, výběrový průměr na jeden den = {round(all_data[16].sum()/(1000*366), 2)} milionů Kč\\n\\\n",
    " - celkem nehod bylo {all_data.shape[0]}, výběrový průměr na jeden den = {round(all_data[14].sum()/366, 2)} nehod\")"
   ]
  },
  {
   "cell_type": "markdown",
   "metadata": {},
   "source": [
    "Údaje jsou dány do 24h po nehodě. Dále se počty mohly změnit. Na těžké zranení mohly oběti nehod podlehnout i několik dní po incidentu,\n",
    "to zde ale už započítáno není."
   ]
  },
  {
   "cell_type": "code",
   "execution_count": 7,
   "metadata": {},
   "outputs": [
    {
     "data": {
      "image/png": "[encoded data removed]",
      "text/plain": [
       "<Figure size 432x288 with 1 Axes>"
      ]
     },
     "metadata": {
      "needs_background": "light"
     },
     "output_type": "display_data"
    }
   ],
   "source": [
    "fig = plt.figure()\n",
    "ax = fig.add_axes([0,0,1,1])\n",
    "category = ['úmrtí', 'těžkých zranění', 'lehkých zranění']\n",
    "numbers = [all_data[13].sum(), all_data[14].sum(), all_data[15].sum()]\n",
    "ax.bar(category,numbers)\n",
    "plt.show()"
   ]
  },
  {
   "cell_type": "markdown",
   "metadata": {},
   "source": [
    "Podívejme se, kolik lidí při nehodě zemře, pokud se nehoda stane tragickou. V naprosté většině zemře jeden člověk."
   ]
  },
  {
   "cell_type": "code",
   "execution_count": 8,
   "metadata": {},
   "outputs": [
    {
     "data": {
      "image/png": "[encoded data removed]",
      "text/plain": [
       "<Figure size 432x288 with 1 Axes>"
      ]
     },
     "metadata": {
      "needs_background": "light"
     },
     "output_type": "display_data"
    }
   ],
   "source": [
    "numbers = []\n",
    "for num in range(1, all_data[13].max()+1):\n",
    "    numbers.append(all_data[all_data[13] == num][13].count())\n",
    "\n",
    "fig = plt.figure()\n",
    "ax = fig.add_axes([0,0,1,1])\n",
    "category = [str(i) for i in range(1, len(numbers)+1)]\n",
    "ax.bar(category, numbers,color=\"r\") #\n",
    "\n",
    "for i in range(len(category)):\n",
    "    ax.text(category[i], numbers[i] + 2, numbers[i], weight='bold')\n",
    "plt.show()"
   ]
  },
  {
   "cell_type": "markdown",
   "metadata": {},
   "source": [
    "# Zajímavé statistiky\n",
    "\n",
    "Naše hypotéza je, že když mimo obec nehoda nastane, je většinou smrtelná. Tato domněnka vychází z faktu,\n",
    "že mimo obec se smí jezdit až 90 km/h, zatímco v obci je rychlost omezena na 50 km/h. "
   ]
  },
  {
   "cell_type": "code",
   "execution_count": 9,
   "metadata": {
    "scrolled": true
   },
   "outputs": [
    {
     "name": "stdout",
     "output_type": "stream",
     "text": [
      "Nehod mimo obec: 62280, pravděpodobnost úmrtí při srážce mimo obec 0.21 %\n",
      "Nehod v obci: 32524, pravděpodobnost úmrtí při srážce v obci 0.92 %\n"
     ]
    }
   ],
   "source": [
    "mimo_obec = all_data[all_data[63] == 1]\n",
    "v_obci = all_data[all_data[63] == 2]\n",
    "\n",
    "print(f\"Nehod mimo obec: {mimo_obec.shape[0]}, pravděpodobnost úmrtí při srážce mimo obec {round(100*mimo_obec[mimo_obec[13] > 0].shape[0]/mimo_obec.shape[0], 2)} %\\n\\\n",
    "Nehod v obci: {v_obci.shape[0]}, pravděpodobnost úmrtí při srážce v obci {round(100*v_obci[v_obci[13] > 0].shape[0]/v_obci.shape[0], 2)} %\")"
   ]
  },
  {
   "cell_type": "markdown",
   "metadata": {},
   "source": [
    "Tuto hypotézu nijak hlouběji ověřovat nebudeme. Vyšlo nám totiž naopak to, že k úmrtí dojde spíše v obci než mimo obec.\n",
    "Pravděpodobně při těchto nehodách je sražen chodec a z toho důvodu nehoda často končí tragicky."
   ]
  },
  {
   "cell_type": "markdown",
   "metadata": {},
   "source": [
    "## Nepřiměřená rychlost v obci končí z téměř 50ti procent zraněním osoby\n",
    "\n",
    "Podívejme se na vskutku šokující fakt. Při téměř každé druhé nehodě, jejíž příčinou byla nepřiměřená rychlost\n",
    "v obci, se někdo (minimálně) zraní. Opět jde nejspíš o chodce, kteří vejdou na vozovku a řidič již nestihne reagovat.\n",
    "\n",
    "[Zdroje uvádějí](https://en.wikipedia.org/wiki/Mental_chronometry), že reakční doba člověka je zhruba 250ms. Pokud se plně nesoustředíme, bude to i mnohem více. Ačkoliv v tomto případě byla na vině nepřiměřená rychlost, můžeme se i přesto domnívat, že tento lidský faktor hraje velkou roli. Kdyby byl ve vozidle instalován [automatický brzdný systém](https://cars.usnews.com/cars-trucks/best-cars-blog/2016/10/what-is-an-automatic-braking-system), mohlo se nejspíš většině těchto následků předejít.\n",
    "\n",
    "\n",
    "Mějme ale stále na mysli, že s opravdu vysokou rychlostí ani počítač nic nenadělá. Buďme tedy ve městech\n",
    "opatrní a zkusme se těmito daty řídit."
   ]
  },
  {
   "cell_type": "code",
   "execution_count": 10,
   "metadata": {},
   "outputs": [
    {
     "name": "stdout",
     "output_type": "stream",
     "text": [
      "Pravděpodobnost újmy na zdraví při nehodě ve vysoké rychlosti v obci je 46.14 %.\n"
     ]
    }
   ],
   "source": [
    "x = v_obci\n",
    "vysoka_rychlost = v_obci[v_obci[12] > 200]\n",
    "pocet_nehod_kvuli_rychlosti = vysoka_rychlost[vysoka_rychlost[12] < 250]\n",
    "print(f\"Pravděpodobnost újmy na zdraví při nehodě ve vysoké rychlosti v obci je \\\n",
    "{100*round(pocet_nehod_kvuli_rychlosti[pocet_nehod_kvuli_rychlosti[9] == 1].shape[0]/pocet_nehod_kvuli_rychlosti.shape[0], 4)} %.\")"
   ]
  },
  {
   "cell_type": "markdown",
   "metadata": {},
   "source": [
    "## Prostor pro technická bezpečnostní zlepšení\n",
    "\n",
    "Když člověku dáme do ruky několikatunový stroj s možností pohybovat se vysokou rychlostí, často lidské schopnosti nestačí k tomu,\n",
    "aby stroj uřídily. Vzhledem k tomu, že v datech je uvedeno, jaká byla příčina nehody,\n",
    "můžeme lehce zjistit, kolik jich bylo zaviněno řidičem."
   ]
  },
  {
   "cell_type": "code",
   "execution_count": 11,
   "metadata": {},
   "outputs": [
    {
     "name": "stdout",
     "output_type": "stream",
     "text": [
      "Celkem 82.68 % nehod je zaviněno řidičem (ne poruchou nebo jakýmkoliv vnějším vlivem).\n"
     ]
    }
   ],
   "source": [
    "zavineno_ridicem = all_data[all_data[12] > 200]\n",
    "moznost_pro_autonomii = zavineno_ridicem[zavineno_ridicem[12] < 550]\n",
    "\n",
    "print(f\"Celkem {round(100*moznost_pro_autonomii.shape[0]/all_data.shape[0], 2)} % nehod je zaviněno řidičem (ne poruchou nebo jakýmkoliv vnějším vlivem).\")"
   ]
  },
  {
   "cell_type": "markdown",
   "metadata": {},
   "source": [
    "## Za více jak 96 % úmrtí na silnicích může lidské zavinění\n",
    "\n",
    "Pojďme se ale podívat na ty opravdu vážné nehody, při kterých někdo zemřel.\n",
    "\n",
    "Kdo nehodu zavinil? Více jak 96 procent nehod zavinil člověk."
   ]
  },
  {
   "cell_type": "code",
   "execution_count": 12,
   "metadata": {},
   "outputs": [
    {
     "name": "stdout",
     "output_type": "stream",
     "text": [
      "Celkem 96.61 % nehod je zaviněno řidičem (ne poruchou nebo jakýmkoliv vnějším vlivem).\n"
     ]
    }
   ],
   "source": [
    "umrti = all_data[all_data[13] > 0]\n",
    "zavineno_ridicem = umrti[umrti[12] > 200]\n",
    "moznost_pro_autonomii = zavineno_ridicem[zavineno_ridicem[12] < 550]\n",
    "print(f\"Celkem {round(100*moznost_pro_autonomii[13].sum()/umrti[13].sum(), 2)} % nehod je zaviněno řidičem (ne poruchou nebo jakýmkoliv vnějším vlivem).\")"
   ]
  },
  {
   "cell_type": "markdown",
   "metadata": {},
   "source": [
    "# Hypotéza\n",
    "\n",
    "Mějme hypotézu, že počet nehod za den má normální rozdělení. Pojďme tuto hypotézu ověřit.\n",
    "\n",
    "Nejdříve si musíme připravit data.\n"
   ]
  },
  {
   "cell_type": "code",
   "execution_count": 13,
   "metadata": {},
   "outputs": [],
   "source": [
    "# pocty dnu v mesici napocitano na mych prstech (2020 byl prestupny rok)\n",
    "max_days_in_month = [31,29,31,30,31,30,31,31,30,31,30,31]"
   ]
  },
  {
   "cell_type": "code",
   "execution_count": null,
   "metadata": {},
   "outputs": [],
   "source": [
    "nehody = [] # jednotlive nehody za kazdy den v roce\n",
    "for m in range(1, 13):\n",
    "    for day in range(1, max_days_in_month[m-1] + 1):\n",
    "        denni_nehody = all_data[all_data[3].str.contains(str(year) + \"-\" + str(m).zfill(2) + \"-\" + str(day).zfill(2))]\n",
    "        nehody.append(denni_nehody.shape[0])"
   ]
  },
  {
   "cell_type": "code",
   "execution_count": null,
   "metadata": {},
   "outputs": [],
   "source": [
    "nehody = np.array(nehody)"
   ]
  },
  {
   "cell_type": "code",
   "execution_count": null,
   "metadata": {},
   "outputs": [],
   "source": [
    "num_of_bins = 7\n",
    "a = np.digitize(nehody, [100, 200, 300, 400, 500, 600, 700]) # rozdelime nehody do binu\n",
    "\n",
    "unique, counts = np.unique(a, return_counts=True)\n",
    "hist = dict(zip(unique, counts))\n",
    "\n",
    "# je mozne, ze nejaky bin nema zadny prvek, v tom pripade musime do dict pridat bin s 0 prvky\n",
    "for i in range(0,num_of_bins):\n",
    "    if i not in hist:\n",
    "        hist[i] = 0\n",
    "\n",
    "hodnoty = []\n",
    "keys_sorted = sorted(hist.keys()) # seradime keys (tzn. biny tak, aby davaly smysl)\n",
    "\n",
    "# a precteme postupne hodnoty z binu (takze jsou serazene stejne jako biny)\n",
    "for k in keys_sorted:\n",
    "    hodnoty.append(hist[k])"
   ]
  },
  {
   "cell_type": "code",
   "execution_count": null,
   "metadata": {},
   "outputs": [],
   "source": [
    "fig = plt.figure()\n",
    "ax = fig.add_axes([0,0,1,1])\n",
    "category = [\"0-100\", \"100-200\",\"200-300\",\"300-400\",\"400-500\",\"500-600\", \"600 and more\"]\n",
    "numbers = list(dict(zip(keys_sorted, hodnoty)).values())\n",
    "print(numbers)\n",
    "\n",
    "ax.bar(category,numbers)\n",
    "for i in range(len(category)):\n",
    "    ax.text(category[i], numbers[i] + 2, numbers[i], weight='bold')\n",
    "plt.show()"
   ]
  },
  {
   "cell_type": "markdown",
   "metadata": {},
   "source": [
    "Histogram podle oka opravdu připomíná normální rozdělení.\n",
    "Spočtěme nejdříve střední hodnotu (pomocí výběrového průměru) a rozptyl (pomocí výběrového rozptylu)."
   ]
  },
  {
   "cell_type": "code",
   "execution_count": null,
   "metadata": {},
   "outputs": [],
   "source": [
    "E = (1/nehody.shape[0]) * np.sum(nehody)\n",
    "o2 = (1/(nehody.shape[0]-1)) * np.sum((nehody - E)**2)\n",
    "print(f\"Výběrový průměr počtu nehod za den je {E}.\")\n",
    "print(f\"Výběrový rozptyl počtu nehod za den je {o2}.\")"
   ]
  },
  {
   "cell_type": "code",
   "execution_count": null,
   "metadata": {},
   "outputs": [],
   "source": [
    "# zjistime pravdepodobnosti, pokud se proces opravdu ridi nahodnym rozdelenim\n",
    "cdf = [0]\n",
    "right_probs = []\n",
    "for i in range(num_of_bins):\n",
    "    cdf.append(norm.cdf((i+1)*100, E, np.sqrt(o2)))\n",
    "    right_probs.append(cdf[-1] - cdf[-2])\n",
    "\n",
    "right_probs = np.array(right_probs)"
   ]
  },
  {
   "cell_type": "code",
   "execution_count": null,
   "metadata": {},
   "outputs": [],
   "source": [
    "Ecka = right_probs * nehody.shape[0] # kolik by melo uplne dokonale byt v binech\n",
    "T = np.sum(((numbers - Ecka)**2)/ Ecka)"
   ]
  },
  {
   "cell_type": "markdown",
   "metadata": {},
   "source": [
    "Když vyobrazíme počty na grafu, vypadají skoro totožně s grafem, který jsme získali z oficiálních dat."
   ]
  },
  {
   "cell_type": "code",
   "execution_count": null,
   "metadata": {},
   "outputs": [],
   "source": [
    "fig = plt.figure()\n",
    "ax = fig.add_axes([0,0,1,1])\n",
    "category = [\"0-100\", \"100-200\",\"200-300\",\"300-400\",\"400-500\",\"500-600\", \"600 and more\"]\n",
    "numbers = list(dict(zip(keys_sorted, hodnoty)).values())\n",
    "print(numbers)\n",
    "ax.bar(category,Ecka)\n",
    "for i in range(len(category)):\n",
    "    ax.text(category[i], Ecka[i] + 2, round(Ecka[i]), weight='bold')\n",
    "plt.show()"
   ]
  },
  {
   "cell_type": "code",
   "execution_count": null,
   "metadata": {},
   "outputs": [],
   "source": [
    "gamma = chi2.ppf(0.95, num_of_bins-1)\n",
    "print(\"T =\", str(T))\n",
    "print(\"Gamma =\", str(gamma))"
   ]
  },
  {
   "cell_type": "markdown",
   "metadata": {},
   "source": [
    "Jak je vidět, T > Gamma a proto můžeme hypotézu zamítnout. Což je ale zarážející, protože grafy vypadají opravdu stejně. Pohrál jsem si tedy s daty a zjistil jsem, že v předposledním binu je v našich datech právě jedno dato, ale ideálně by tam být nemělo. Co to je za dato? Z jakého dne toto dato je? Ukáže se, že je to úplně z prvního dne, tedy z 1. ledna 2020. To mi přijde trošku podezřelé. Je to možná nějaká malá chyba v datech, např. některé nehody z posledního dne roku 2019 se započítaly až do nového roku.\n",
    "\n",
    "Zkusme tento den tedy z našich dat odstranit a spočítat hodnotu T znovu. "
   ]
  },
  {
   "cell_type": "code",
   "execution_count": null,
   "metadata": {},
   "outputs": [],
   "source": [
    "print(f\"Nejvíce nehod je ze dne číslo {np.argmax(nehody)}, tzn. z 1. ledna 2020.\")"
   ]
  },
  {
   "cell_type": "code",
   "execution_count": null,
   "metadata": {},
   "outputs": [],
   "source": [
    "bez_outliera = numbers\n",
    "bez_outliera[5] = 0"
   ]
  },
  {
   "cell_type": "code",
   "execution_count": null,
   "metadata": {},
   "outputs": [],
   "source": [
    "T = np.sum(((bez_outliera - Ecka)**2)/Ecka)"
   ]
  },
  {
   "cell_type": "code",
   "execution_count": null,
   "metadata": {},
   "outputs": [],
   "source": [
    "gamma_bez_outliera = chi2.ppf(0.95, num_of_bins-1)\n",
    "print(\"T bez jednoho data =\", str(T))\n",
    "print(\"Gamma bez jednoho data =\", str(gamma_bez_outliera))"
   ]
  },
  {
   "cell_type": "markdown",
   "metadata": {},
   "source": [
    "V tomto případě je už opravdu T < Gamma a hypotézu už zamítnout nemůžeme. Je vidět, že test je velice citlivý a otázkou je, jestli je správné, že jsme dato odstranili."
   ]
  },
  {
   "cell_type": "code",
   "execution_count": null,
   "metadata": {},
   "outputs": [],
   "source": []
  }
 ],
 "metadata": {
  "kernelspec": {
   "display_name": "venv",
   "language": "python",
   "name": "venv"
  },
  "language_info": {
   "codemirror_mode": {
    "name": "ipython",
    "version": 3
   },
   "file_extension": ".py",
   "mimetype": "text/x-python",
   "name": "python",
   "nbconvert_exporter": "python",
   "pygments_lexer": "ipython3",
   "version": "3.8.5"
  }
 },
 "nbformat": 4,
 "nbformat_minor": 2
}
