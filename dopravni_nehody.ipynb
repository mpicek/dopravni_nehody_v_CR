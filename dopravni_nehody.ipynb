{
 "cells": [
  {
   "cell_type": "markdown",
   "metadata": {},
   "source": [
    "# Dopravní nehody v České republice za rok 2020\n",
    "\n",
    "Z důvodu dopravních nehod zemře ročně v České republice velký počet lidí. Mnohonásobně vyšší počet osob je pak zraněn a finanční ztráty jsou taktéž enormní. V této krátké statistické studii budeme tato čísla vyhodnocovat. Hlavním cílem bude zjistit, co bylo příčinou nehod a zda není možné nehodám předejít. Zajímá nás, jak velkou roli hrál lidský faktor a zda by řidiče nebylo možné nahradit počítačem, který by mohl chybovost snížit. Může snaha automobilového průmyslu o vyrobení samoříditelných aut zachránit lidské životy? Pojďme se podívat."
   ]
  },
  {
   "cell_type": "code",
   "execution_count": 1,
   "metadata": {},
   "outputs": [],
   "source": [
    "import numpy as np\n",
    "from os import listdir\n",
    "from os.path import isfile, join\n",
    "import pandas as pd"
   ]
  },
  {
   "cell_type": "code",
   "execution_count": 2,
   "metadata": {},
   "outputs": [],
   "source": [
    "year = 2019"
   ]
  },
  {
   "cell_type": "code",
   "execution_count": 3,
   "metadata": {},
   "outputs": [],
   "source": [
    "data_folder = './data/' + str(year)\n",
    "months_folders = [join(data_folder, month_folder) for month_folder in sorted(listdir(data_folder))]"
   ]
  },
  {
   "cell_type": "code",
   "execution_count": 4,
   "metadata": {},
   "outputs": [],
   "source": [
    "files_desc = [\n",
    "    \"praha\",\n",
    "    \"stredocesky\",\n",
    "    \"jihocesky\",\n",
    "    \"plzensky\",\n",
    "    \"ustecky\",\n",
    "    \"kralovehradecky\",\n",
    "    \"jihomoravsky\",\n",
    "    \"moravskoslezsky\",\n",
    "    \"none\",\n",
    "    \"none\",\n",
    "    \"none\",\n",
    "    \"none\",\n",
    "    \"none\",\n",
    "    \"none\",\n",
    "    \"olomoucky\",\n",
    "    \"zlinsky\",\n",
    "    \"vysocina\",\n",
    "    \"pradubicky\",\n",
    "    \"liberecky\",\n",
    "    \"karlovarsky\",\n",
    "    \"chodci\"\n",
    "]"
   ]
  },
  {
   "cell_type": "code",
   "execution_count": 5,
   "metadata": {},
   "outputs": [],
   "source": [
    "data = [] # pole mesicu (indexovano od nuly)\n",
    "# data = [data_leden, data_unor, ...]\n",
    "# data_leden = {\"prazsky\" = pdObject, \"stredocesky\" = pdObject, ...}\n",
    "\n",
    "for m in months_folders:\n",
    "    month_data = {} # data from each district\n",
    "    for i, f in enumerate(sorted(listdir(m))):\n",
    "        if files_desc[i] != \"none\" and files_desc[i] != \"chodci\":\n",
    "            month_data[files_desc[i]] = pd.read_csv(join(m, f), sep=';', header=None, low_memory=False)\n",
    "            month_data[files_desc[i]] = month_data[files_desc[i]].drop_duplicates(subset=[0])\n",
    "    data.append(month_data)\n",
    "\n",
    "all_data_pds = [m[kraj] for m in data for kraj in m]\n",
    "all_data_with_duplicates = pd.concat(all_data_pds) # whole year, all districts\n",
    "all_data = all_data_with_duplicates.drop_duplicates(subset=[0]) # drop duplicates (by id of the accident)"
   ]
  },
  {
   "cell_type": "code",
   "execution_count": 6,
   "metadata": {},
   "outputs": [
    {
     "name": "stdout",
     "output_type": "stream",
     "text": [
      "Za rok 2019 \n",
      " - zemřelo 559 lidí \n",
      " - bylo těžce zraněno 1858 lidí \n",
      " - bylo lehce zraněno 24099 lidí \n",
      " - újma na majetku činila 68404 milionů Kč \n",
      " - celkem nehod bylo 107591\n"
     ]
    }
   ],
   "source": [
    "print(f\"Za rok {year} \\n - zemřelo {all_data[13].sum()} lidí \\n\\\n",
    " - bylo těžce zraněno {all_data[14].sum()} lidí \\n\\\n",
    " - bylo lehce zraněno {all_data[15].sum()} lidí \\n\\\n",
    " - újma na majetku činila {all_data[16].sum() // 1000} milionů Kč \\n\\\n",
    " - celkem nehod bylo {all_data.shape[0]}\")"
   ]
  },
  {
   "cell_type": "code",
   "execution_count": 16,
   "metadata": {},
   "outputs": [
    {
     "name": "stdout",
     "output_type": "stream",
     "text": [
      "Nehod v obci: 71727 0.17347721220739748\n",
      "Nehod mimo obec: 35864 a 0.23215480704885122\n"
     ]
    }
   ],
   "source": [
    "v_obci = all_data[all_data[63] == 1]\n",
    "ve_meste = all_data[all_data[63] == 2]\n",
    "\n",
    "print(f\"Nehod v obci: {v_obci.shape[0]} {v_obci[v_obci[9] == 1].shape[0]/v_obci.shape[0]}\\n\\\n",
    "Nehod mimo obec: {ve_meste.shape[0]} a {ve_meste[ve_meste[9] == 1].shape[0]/ve_meste.shape[0]}\")"
   ]
  },
  {
   "cell_type": "code",
   "execution_count": null,
   "metadata": {},
   "outputs": [],
   "source": []
  }
 ],
 "metadata": {
  "kernelspec": {
   "display_name": "venv",
   "language": "python",
   "name": "venv"
  },
  "language_info": {
   "codemirror_mode": {
    "name": "ipython",
    "version": 3
   },
   "file_extension": ".py",
   "mimetype": "text/x-python",
   "name": "python",
   "nbconvert_exporter": "python",
   "pygments_lexer": "ipython3",
   "version": "3.8.5"
  }
 },
 "nbformat": 4,
 "nbformat_minor": 2
}
